{
 "cells": [
  {
   "cell_type": "code",
   "execution_count": 1,
   "metadata": {},
   "outputs": [
    {
     "data": {
      "text/plain": [
       "\r\n",
       "\n",
       "1 subgoal, subgoal 1 (ID 1)\r\n",
       "  \r\n",
       "  ============================\r\n",
       "  forall A B : Prop, A -> (A -> B) -> B\r\n",
       "\r\n",
       "(dependent evars: (printing disabled) )\n",
       "Proving: implication"
      ]
     },
     "execution_count": 1,
     "metadata": {},
     "output_type": "execute_result"
    }
   ],
   "source": [
    "Theorem implication :\n",
    "  forall A B : Prop,\n",
    "  A ->\n",
    "  (A -> B) ->\n",
    "  B\n",
    "."
   ]
  },
  {
   "cell_type": "code",
   "execution_count": 2,
   "metadata": {},
   "outputs": [
    {
     "data": {
      "text/plain": []
     },
     "execution_count": 2,
     "metadata": {},
     "output_type": "execute_result"
    }
   ],
   "source": [
    "Proof.\n",
    "  intros A B.\n",
    "  intros proof_of_A.\n",
    "  intros A_implies_B.\n",
    "  pose (proof_of_B := A_implies_B proof_of_A).\n",
    "  exact proof_of_B.\n",
    "Qed."
   ]
  }
 ],
 "metadata": {
  "kernelspec": {
   "display_name": "Coq",
   "language": "coq",
   "name": "coq"
  },
  "language_info": {
   "file_extension": ".v",
   "mimetype": "text/coq",
   "name": "coq",
   "version": "8.6"
  }
 },
 "nbformat": 4,
 "nbformat_minor": 2
}
