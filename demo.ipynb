{
 "cells": [
  {
   "cell_type": "code",
   "execution_count": 2,
   "metadata": {},
   "outputs": [
    {
     "data": {
      "text/plain": [
       "\n",
       "\n",
       "\n",
       "\n",
       "\n",
       "1 subgoal\r\n",
       "  \r\n",
       "  ============================\r\n",
       "  forall A B : Prop, A -> (A -> B) -> B\r\n",
       "\r\n",
       "\n",
       "Proving: implication"
      ]
     },
     "execution_count": 2,
     "metadata": {},
     "output_type": "execute_result"
    }
   ],
   "source": [
    "Theorem implication :\n",
    "  forall A B : Prop,\n",
    "  A ->\n",
    "  (A -> B) ->\n",
    "  B\n",
    "."
   ]
  },
  {
   "cell_type": "code",
   "execution_count": 3,
   "metadata": {},
   "outputs": [
    {
     "data": {
      "text/plain": [
       "1 subgoal\r\n",
       "  \r\n",
       "  ============================\r\n",
       "  forall A B : Prop, A -> (A -> B) -> B\r\n",
       "\r\n",
       "\n",
       "1 subgoal\r\n",
       "  \r\n",
       "  A, B : Prop\r\n",
       "  ============================\r\n",
       "  A -> (A -> B) -> B\r\n",
       "\r\n",
       "\n",
       "1 subgoal\r\n",
       "  \r\n",
       "  A, B : Prop\r\n",
       "  proof_of_A : A\r\n",
       "  ============================\r\n",
       "  (A -> B) -> B\r\n",
       "\r\n",
       "\n",
       "1 subgoal\r\n",
       "  \r\n",
       "  A, B : Prop\r\n",
       "  proof_of_A : A\r\n",
       "  A_implies_B : A -> B\r\n",
       "  ============================\r\n",
       "  B\r\n",
       "\r\n",
       "\n",
       "1 subgoal\r\n",
       "  \r\n",
       "  A, B : Prop\r\n",
       "  proof_of_A : A\r\n",
       "  A_implies_B : A -> B\r\n",
       "  proof_of_B := A_implies_B proof_of_A : B\r\n",
       "  ============================\r\n",
       "  B\r\n",
       "\r\n",
       "\n",
       "No more subgoals.\r\n",
       "\r\n",
       "\n",
       "Proof.\r\n",
       "(intros A B).\r\n",
       "(intros proof_of_A).\r\n",
       "(intros A_implies_B).\r\n",
       "(pose (proof_of_B := A_implies_B proof_of_A)).\r\n",
       "exact proof_of_B.\r\n",
       "\r\n",
       "Qed.\r\n",
       "implication is defined\r\n",
       "\r\n"
      ]
     },
     "execution_count": 3,
     "metadata": {},
     "output_type": "execute_result"
    }
   ],
   "source": [
    "Proof.\n",
    "  intros A B.\n",
    "  intros proof_of_A.\n",
    "  intros A_implies_B.\n",
    "  pose (proof_of_B := A_implies_B proof_of_A).\n",
    "  exact proof_of_B.\n",
    "Qed."
   ]
  }
 ],
 "metadata": {
  "kernelspec": {
   "display_name": "Coq",
   "language": "coq",
   "name": "coq"
  },
  "language_info": {
   "file_extension": ".v",
   "mimetype": "text/coq",
   "name": "coq",
   "version": "8.6"
  }
 },
 "nbformat": 4,
 "nbformat_minor": 2
}
